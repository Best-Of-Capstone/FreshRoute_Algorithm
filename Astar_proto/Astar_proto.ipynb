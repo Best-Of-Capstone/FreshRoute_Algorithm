{
 "cells": [
  {
   "cell_type": "markdown",
   "id": "7f44f289",
   "metadata": {},
   "source": [
    "## CSV Preprocess"
   ]
  },
  {
   "cell_type": "code",
   "execution_count": 15,
   "id": "fbeebd7f",
   "metadata": {},
   "outputs": [],
   "source": [
    "\"\"\"\n",
    "! conda activate Seol\n",
    "! pip install geopandas\n",
    "! pip install shapely\n",
    "\"\"\"\n",
    "\n",
    "import pandas as pd\n",
    "import os \n",
    "from geopandas import GeoDataFrame\n",
    "import pickle\n",
    "from shapely.geometry import Point\n",
    "\n",
    "cur_path = os.getcwd() # 경로 설정\n",
    "\n",
    "# subway_line= pd.read_csv('서울시 역사마스터 정보.csv', engine='python', encoding='utf-8')\n",
    "subway_line= pd.read_csv('서울시 역사마스터 정보 최종.csv', engine='python', encoding='utf-8')"
   ]
  },
  {
   "cell_type": "code",
   "execution_count": 16,
   "id": "4306924d",
   "metadata": {},
   "outputs": [
    {
     "data": {
      "text/html": [
       "<div>\n",
       "<style scoped>\n",
       "    .dataframe tbody tr th:only-of-type {\n",
       "        vertical-align: middle;\n",
       "    }\n",
       "\n",
       "    .dataframe tbody tr th {\n",
       "        vertical-align: top;\n",
       "    }\n",
       "\n",
       "    .dataframe thead th {\n",
       "        text-align: right;\n",
       "    }\n",
       "</style>\n",
       "<table border=\"1\" class=\"dataframe\">\n",
       "  <thead>\n",
       "    <tr style=\"text-align: right;\">\n",
       "      <th></th>\n",
       "      <th>역사_ID</th>\n",
       "      <th>역사명</th>\n",
       "      <th>호선</th>\n",
       "      <th>위도</th>\n",
       "      <th>경도</th>\n",
       "    </tr>\n",
       "  </thead>\n",
       "  <tbody>\n",
       "    <tr>\n",
       "      <th>0</th>\n",
       "      <td>150</td>\n",
       "      <td>서울역</td>\n",
       "      <td>1호선</td>\n",
       "      <td>37.554648</td>\n",
       "      <td>126.972559</td>\n",
       "    </tr>\n",
       "    <tr>\n",
       "      <th>1</th>\n",
       "      <td>151</td>\n",
       "      <td>시청</td>\n",
       "      <td>1호선</td>\n",
       "      <td>37.564718</td>\n",
       "      <td>126.977108</td>\n",
       "    </tr>\n",
       "    <tr>\n",
       "      <th>2</th>\n",
       "      <td>152</td>\n",
       "      <td>종각</td>\n",
       "      <td>1호선</td>\n",
       "      <td>37.570161</td>\n",
       "      <td>126.982923</td>\n",
       "    </tr>\n",
       "    <tr>\n",
       "      <th>3</th>\n",
       "      <td>153</td>\n",
       "      <td>종로3가</td>\n",
       "      <td>1호선</td>\n",
       "      <td>37.571607</td>\n",
       "      <td>126.991806</td>\n",
       "    </tr>\n",
       "    <tr>\n",
       "      <th>4</th>\n",
       "      <td>154</td>\n",
       "      <td>종로5가</td>\n",
       "      <td>1호선</td>\n",
       "      <td>37.570926</td>\n",
       "      <td>127.001849</td>\n",
       "    </tr>\n",
       "  </tbody>\n",
       "</table>\n",
       "</div>"
      ],
      "text/plain": [
       "   역사_ID   역사명   호선         위도          경도\n",
       "0    150   서울역  1호선  37.554648  126.972559\n",
       "1    151    시청  1호선  37.564718  126.977108\n",
       "2    152    종각  1호선  37.570161  126.982923\n",
       "3    153  종로3가  1호선  37.571607  126.991806\n",
       "4    154  종로5가  1호선  37.570926  127.001849"
      ]
     },
     "execution_count": 16,
     "metadata": {},
     "output_type": "execute_result"
    }
   ],
   "source": [
    "subway_line.head()"
   ]
  },
  {
   "cell_type": "code",
   "execution_count": 23,
   "id": "f5921d98",
   "metadata": {},
   "outputs": [
    {
     "data": {
      "text/plain": [
       "<bound method NDFrame.describe of      역사_ID     역사명     호선         위도          경도\n",
       "0      150     서울역    1호선  37.554648  126.972559\n",
       "1      151      시청    1호선  37.564718  126.977108\n",
       "2      152      종각    1호선  37.570161  126.982923\n",
       "3      153    종로3가    1호선  37.571607  126.991806\n",
       "4      154    종로5가    1호선  37.570926  127.001849\n",
       "..     ...     ...    ...        ...         ...\n",
       "768   3223   모래내시장  인천2호선  37.455830  126.719298\n",
       "769   3224      만수  인천2호선  37.454911  126.732094\n",
       "770   3225    남동구청  인천2호선  37.448161  126.736939\n",
       "771   3226   인천대공원  인천2호선  37.448769  126.752618\n",
       "772   3227  운연(서창)  인천2호선  37.440127  126.759970\n",
       "\n",
       "[773 rows x 5 columns]>"
      ]
     },
     "execution_count": 23,
     "metadata": {},
     "output_type": "execute_result"
    }
   ],
   "source": [
    "subway_line.describe"
   ]
  },
  {
   "cell_type": "code",
   "execution_count": 18,
   "id": "ff4bb074",
   "metadata": {},
   "outputs": [
    {
     "data": {
      "text/plain": [
       "0    150\n",
       "1    151\n",
       "2    152\n",
       "3    153\n",
       "4    154\n",
       "Name: 역사_ID, dtype: int64"
      ]
     },
     "execution_count": 18,
     "metadata": {},
     "output_type": "execute_result"
    }
   ],
   "source": [
    "subway_line[\"역사정보\"].head()"
   ]
  },
  {
   "cell_type": "code",
   "execution_count": 19,
   "id": "8169df1e",
   "metadata": {},
   "outputs": [
    {
     "data": {
      "text/plain": [
       "[(348, '하계', 37.636352, 127.06799)]"
      ]
     },
     "execution_count": 19,
     "metadata": {},
     "output_type": "execute_result"
    }
   ],
   "source": [
    "list(subway_line.loc[(subway_line[\"역사명\"] == '하계'), [\"역사명\", \"위도\", \"경도\"]].itertuples(name=None))"
   ]
  },
  {
   "cell_type": "code",
   "execution_count": 20,
   "id": "16ece0a0",
   "metadata": {},
   "outputs": [
    {
     "data": {
      "text/html": [
       "<div>\n",
       "<style scoped>\n",
       "    .dataframe tbody tr th:only-of-type {\n",
       "        vertical-align: middle;\n",
       "    }\n",
       "\n",
       "    .dataframe tbody tr th {\n",
       "        vertical-align: top;\n",
       "    }\n",
       "\n",
       "    .dataframe thead th {\n",
       "        text-align: right;\n",
       "    }\n",
       "</style>\n",
       "<table border=\"1\" class=\"dataframe\">\n",
       "  <thead>\n",
       "    <tr style=\"text-align: right;\">\n",
       "      <th></th>\n",
       "      <th>역사_ID</th>\n",
       "      <th>역사명</th>\n",
       "      <th>호선</th>\n",
       "      <th>위도</th>\n",
       "      <th>경도</th>\n",
       "    </tr>\n",
       "  </thead>\n",
       "  <tbody>\n",
       "    <tr>\n",
       "      <th>161</th>\n",
       "      <td>321</td>\n",
       "      <td>충무로</td>\n",
       "      <td>3호선</td>\n",
       "      <td>37.561430</td>\n",
       "      <td>126.994072</td>\n",
       "    </tr>\n",
       "    <tr>\n",
       "      <th>211</th>\n",
       "      <td>423</td>\n",
       "      <td>충무로</td>\n",
       "      <td>4호선</td>\n",
       "      <td>37.561207</td>\n",
       "      <td>126.994080</td>\n",
       "    </tr>\n",
       "  </tbody>\n",
       "</table>\n",
       "</div>"
      ],
      "text/plain": [
       "     역사_ID  역사명   호선         위도          경도\n",
       "161    321  충무로  3호선  37.561430  126.994072\n",
       "211    423  충무로  4호선  37.561207  126.994080"
      ]
     },
     "execution_count": 20,
     "metadata": {},
     "output_type": "execute_result"
    }
   ],
   "source": [
    "subway_line.loc[(subway_line[\"역사명\"] == '충무로'), :]"
   ]
  },
  {
   "cell_type": "code",
   "execution_count": null,
   "id": "6213410b",
   "metadata": {},
   "outputs": [],
   "source": []
  },
  {
   "cell_type": "code",
   "execution_count": null,
   "id": "9f83fe03",
   "metadata": {},
   "outputs": [],
   "source": []
  },
  {
   "cell_type": "markdown",
   "id": "8f4cca3e",
   "metadata": {},
   "source": [
    "## Excel Preprocessing"
   ]
  },
  {
   "cell_type": "code",
   "execution_count": 30,
   "id": "8d700cfe",
   "metadata": {},
   "outputs": [
    {
     "name": "stdout",
     "output_type": "stream",
     "text": [
      "Defaulting to user installation because normal site-packages is not writeable\n",
      "Requirement already satisfied: openpyxl in c:\\programdata\\anaconda3\\lib\\site-packages (3.0.9)\n",
      "Requirement already satisfied: et-xmlfile in c:\\programdata\\anaconda3\\lib\\site-packages (from openpyxl) (1.1.0)\n"
     ]
    },
    {
     "name": "stderr",
     "output_type": "stream",
     "text": [
      "WARNING: Ignoring invalid distribution -pencv-contrib-python (c:\\programdata\\anaconda3\\lib\\site-packages)\n",
      "WARNING: Ignoring invalid distribution -pencv-contrib-python (c:\\programdata\\anaconda3\\lib\\site-packages)\n",
      "WARNING: Ignoring invalid distribution -pencv-contrib-python (c:\\programdata\\anaconda3\\lib\\site-packages)\n",
      "WARNING: Ignoring invalid distribution -pencv-contrib-python (c:\\programdata\\anaconda3\\lib\\site-packages)\n",
      "WARNING: Ignoring invalid distribution -pencv-contrib-python (c:\\programdata\\anaconda3\\lib\\site-packages)\n",
      "WARNING: Ignoring invalid distribution -pencv-contrib-python (c:\\programdata\\anaconda3\\lib\\site-packages)\n"
     ]
    }
   ],
   "source": [
    "! conda activate Seol\n",
    "! pip install openpyxl"
   ]
  },
  {
   "cell_type": "code",
   "execution_count": 50,
   "id": "c26ed2bc",
   "metadata": {},
   "outputs": [],
   "source": [
    "from openpyxl import load_workbook\n",
    "\n",
    "load_wb = load_workbook(\"./서울 지하철 역간 거리 정보.xlsx\", data_only=True)"
   ]
  },
  {
   "cell_type": "code",
   "execution_count": 52,
   "id": "b0fa732a",
   "metadata": {},
   "outputs": [],
   "source": [
    "seoul_underground = ['1호선', '2호선', '3호선', \n",
    "                     '4호선', '5호선', '6호선', '7호선', '8호선', '9호선']"
   ]
  },
  {
   "cell_type": "code",
   "execution_count": 51,
   "id": "196fdd67",
   "metadata": {},
   "outputs": [],
   "source": [
    "load_ws = load_wb['1호선']\n",
    "# print(load_ws.cell(3,2).value)"
   ]
  },
  {
   "cell_type": "code",
   "execution_count": 47,
   "id": "1d4d2e66",
   "metadata": {},
   "outputs": [
    {
     "name": "stdout",
     "output_type": "stream",
     "text": [
      "number line name distance \n",
      "1 1호선 소요산 0 \n",
      "2 1호선 동두천 2.5 \n",
      "3 1호선 보산 1.6 \n",
      "4 1호선 동두천중앙 1.4 \n",
      "5 1호선 지행 1 \n",
      "6 1호선 덕정 5.6 \n",
      "7 1호선 덕계 2.9 \n",
      "8 1호선 양주 5.3 \n"
     ]
    }
   ],
   "source": [
    "for line in seoul_underground:\n",
    "    load_ws = load_wb[line]"
   ]
  },
  {
   "cell_type": "code",
   "execution_count": null,
   "id": "b07dacf0",
   "metadata": {},
   "outputs": [],
   "source": [
    "get_cells = load_ws['A1':'D9']\n",
    "    for row in get_cells:\n",
    "        for cell in row:\n",
    "            print(cell.value, end=' ')\n",
    "        print(\"\")"
   ]
  },
  {
   "cell_type": "code",
   "execution_count": null,
   "id": "3e9216ff",
   "metadata": {},
   "outputs": [],
   "source": []
  },
  {
   "cell_type": "code",
   "execution_count": null,
   "id": "82777dbe",
   "metadata": {},
   "outputs": [],
   "source": []
  },
  {
   "cell_type": "code",
   "execution_count": 2,
   "id": "91c8aaa9",
   "metadata": {},
   "outputs": [
    {
     "name": "stdout",
     "output_type": "stream",
     "text": [
      "\tAll paths: [['A', 'B', 'C', 'D', 'E'], ['A', 'B', 'D', 'E'], ['A', 'C', 'D', 'E']]\n",
      "\t\tevaluating: ['A', 'B', 'C', 'D', 'E'] 29\n",
      "\t\tevaluating: ['A', 'B', 'D', 'E'] 24\n",
      "\t\tevaluating: ['A', 'C', 'D', 'E'] 25\n",
      "Best path: A->B:5 B->D:10 D->E:9   Total: 24\n",
      "\n",
      "\tAll paths: [['A', 'B', 'C', 'D'], ['A', 'B', 'D'], ['A', 'C', 'D']]\n",
      "\t\tevaluating: ['A', 'B', 'C', 'D'] 20\n",
      "\t\tevaluating: ['A', 'B', 'D'] 15\n",
      "\t\tevaluating: ['A', 'C', 'D'] 16\n",
      "Best path: A->B:5 B->D:10   Total: 15\n",
      "\n",
      "\tAll paths: [['A', 'B', 'C', 'D', 'E', 'F'], ['A', 'B', 'D', 'E', 'F'], ['A', 'C', 'D', 'E', 'F']]\n",
      "\t\tevaluating: ['A', 'B', 'C', 'D', 'E', 'F'] 37\n",
      "\t\tevaluating: ['A', 'B', 'D', 'E', 'F'] 32\n",
      "\t\tevaluating: ['A', 'C', 'D', 'E', 'F'] 33\n",
      "Best path: A->B:5 B->D:10 D->E:9 E->F:8   Total: 32\n",
      "\n"
     ]
    }
   ],
   "source": [
    "def find_all_paths(graph, start, end, path=[]):\n",
    "        path = path + [start]\n",
    "        if start == end:\n",
    "            return [path]\n",
    "        if start not in graph:\n",
    "            return []\n",
    "        paths = []\n",
    "        for node in graph[start]:\n",
    "            if node not in path:\n",
    "                newpaths = find_all_paths(graph, node, end, path)\n",
    "                for newpath in newpaths:\n",
    "                    paths.append(newpath)\n",
    "        return paths       \n",
    "\n",
    "def min_path(graph, start, end):\n",
    "    paths=find_all_paths(graph,start,end)\n",
    "    mt=10**99\n",
    "    mpath=[]\n",
    "    print('\\tAll paths:',paths)\n",
    "    for path in paths:\n",
    "        t=sum(graph[i][j] for i,j in zip(path,path[1::]))\n",
    "        print('\\t\\tevaluating:',path, t)\n",
    "        if t<mt: \n",
    "            mt=t\n",
    "            mpath=path\n",
    "\n",
    "    e1=' '.join('{}->{}:{}'.format(i,j,graph[i][j]) for i,j in zip(mpath,mpath[1::]))\n",
    "    e2=str(sum(graph[i][j] for i,j in zip(mpath,mpath[1::])))\n",
    "    print('Best path: '+e1+'   Total: '+e2+'\\n')\n",
    "\n",
    "if __name__ == \"__main__\":\n",
    "    graph = {'A': {'B':5, 'C':4},\n",
    "             'B': {'C':3, 'D':10},\n",
    "             'C': {'D':12},\n",
    "             'D': {'C':5, 'E':9},\n",
    "             'E': {'F':8},\n",
    "             'F': {'C':7}}\n",
    "    min_path(graph,'A','E')\n",
    "    min_path(graph,'A','D')\n",
    "    min_path(graph,'A','F')"
   ]
  },
  {
   "cell_type": "code",
   "execution_count": null,
   "id": "78f6bcdb",
   "metadata": {},
   "outputs": [],
   "source": []
  },
  {
   "cell_type": "code",
   "execution_count": null,
   "id": "5311a454",
   "metadata": {},
   "outputs": [],
   "source": []
  },
  {
   "cell_type": "markdown",
   "id": "cd1c2b9a",
   "metadata": {},
   "source": [
    "## CSV 파일 기반 노선도 그래프 구축"
   ]
  },
  {
   "cell_type": "markdown",
   "id": "dc50a896",
   "metadata": {},
   "source": [
    ": 상윤이가 하기로 함 (Firebase import/export w/ csv)"
   ]
  },
  {
   "cell_type": "code",
   "execution_count": null,
   "id": "65b419a8",
   "metadata": {},
   "outputs": [],
   "source": [
    "! conda activate Seol\n",
    "! pip install firebase_admin"
   ]
  },
  {
   "cell_type": "code",
   "execution_count": null,
   "id": "5fef7460",
   "metadata": {},
   "outputs": [],
   "source": [
    "import firebase_admin\n",
    "from firebase_admin import credentials\n",
    "from firebase_admin import firestore\n",
    "import json\n",
    "\n",
    "cred = credentials.Certificate\\\n",
    "    (\"freshroute-b533b-firebase-adminsdk-dr0b0-5c0276c696.json\")\n",
    "\n",
    "firebase_admin.initialize_app(cred, {\n",
    "  'projectId': 'freshroute-b533b',\n",
    "})\n",
    "\n",
    "db = firestore.client()\n",
    "doc_ref = db.collection(\"Subway\").document(\"1002\")\n",
    "\n",
    "doc = doc_ref.get()\n",
    "if doc.exists:\n",
    "    print(f\"Document data: {doc.to_dict()}\")\n",
    "else:\n",
    "    print(\"No such document!\")"
   ]
  },
  {
   "cell_type": "code",
   "execution_count": null,
   "id": "38e9880e",
   "metadata": {},
   "outputs": [],
   "source": []
  },
  {
   "cell_type": "code",
   "execution_count": null,
   "id": "ec379085",
   "metadata": {},
   "outputs": [],
   "source": []
  },
  {
   "cell_type": "markdown",
   "id": "d7bff36c",
   "metadata": {},
   "source": [
    "## Node class 정의"
   ]
  },
  {
   "cell_type": "code",
   "execution_count": 25,
   "id": "6dbbec08",
   "metadata": {},
   "outputs": [],
   "source": [
    "class Node:\n",
    "    def __init__(self, id=None, name=None, lat=None, long=None, adj=None):\n",
    "        self.id = id\n",
    "        self.name = name\n",
    "        \n",
    "        self.lat = lat\n",
    "        self.long = long\n",
    "        \n",
    "        self.adj = []\n",
    "\n",
    "        self.g = 0\n",
    "        self.h = 0\n",
    "        self.f = 0\n",
    "\n",
    "    def __eq__(self, other):\n",
    "        return self.lat == other.lat and self.long == other.long"
   ]
  },
  {
   "cell_type": "markdown",
   "id": "57e23ac1",
   "metadata": {},
   "source": [
    "## Heuristics"
   ]
  },
  {
   "cell_type": "code",
   "execution_count": 26,
   "id": "3c0cff0f",
   "metadata": {},
   "outputs": [],
   "source": [
    "def heuristic(node, goal, D=1, D2=2 ** 0.5):\n",
    "    dx = abs(node.lat - goal.lat)\n",
    "    dy = abs(node.long - goal.long)\n",
    "    return D * (dx + dy) + (D2 - 2 * D) * min(dx, dy)"
   ]
  },
  {
   "cell_type": "markdown",
   "id": "ba549fbe",
   "metadata": {},
   "source": [
    " ## A-star class"
   ]
  },
  {
   "cell_type": "code",
   "execution_count": 54,
   "id": "b5a455ed",
   "metadata": {},
   "outputs": [
    {
     "name": "stdout",
     "output_type": "stream",
     "text": [
      "348 161\n",
      "[<__main__.Node object at 0x00000206821FDDF0>]\n"
     ]
    }
   ],
   "source": [
    "# start = list(subway_line.loc[(subway_line[\"역사명\"] == '하계'), [\"역사명\", \"위도\", \"경도\"]].itertuples(name=None))\n",
    "# end = list(subway_line.loc[(subway_line[\"역사명\"] == '충무로'), [\"역사명\", \"위도\", \"경도\"]].itertuples(name=None))\n",
    "\n",
    "start = list(subway_line.loc[(subway_line[\"역사명\"] == '하계'), [\"역사명\", \"위도\", \"경도\"]].to_records()[0])\n",
    "end = list(subway_line.loc[(subway_line[\"역사명\"] == '충무로'), [\"역사명\", \"위도\", \"경도\"]].to_records()[0])\n",
    "\n",
    "startNode = Node(*start)\n",
    "endNode = Node(*end)\n",
    "openList = []\n",
    "closedList = []\n",
    "\n",
    "print(startNode.id, endNode.id)\n",
    "openList.append(startNode)\n",
    "# print(openList)"
   ]
  },
  {
   "cell_type": "code",
   "execution_count": 55,
   "id": "06bc0e71",
   "metadata": {},
   "outputs": [
    {
     "name": "stdout",
     "output_type": "stream",
     "text": [
      "<__main__.Node object at 0x00000206821FDDF0> 0\n"
     ]
    }
   ],
   "source": [
    "while openList:\n",
    "    \n",
    "    currentNode = openList[0]\n",
    "    currentIdx = 0\n",
    "    \n",
    "    # print(currentNode, currentIdx)\n",
    "\n",
    "    for index, item in enumerate(openList):\n",
    "        if item.f < currentNode.f:\n",
    "            currentNode = item\n",
    "            currentIdx = index\n",
    "\n",
    "    openList.pop(currentIdx)\n",
    "    closedList.append(currentNode)\n",
    "\n",
    "    if currentNode == endNode:\n",
    "        path = []\n",
    "        current = currentNode\n",
    "        while current is not None:\n",
    "            path.append(current.lat, current.long)\n",
    "            current = current.parent\n",
    "        print(path[::-1])\n",
    "\n",
    "    children = []\n",
    "\n",
    "    for newID in currentNode.adj:\n",
    "\n",
    "        new_node = Node(*(list(subway_line.loc[(subway_line[\"역사_ID\"] == newID), [\"역사명\", \"위도\", \"경도\"]].to_records()[0])))\n",
    "        children.append(new_node)\n",
    "\n",
    "    for child in children:\n",
    "\n",
    "        if child in closedList:\n",
    "            continue\n",
    "\n",
    "        # f, g, h값 업데이트\n",
    "        child.g = currentNode.g + 1\n",
    "        child.h = ((child.lat - endNode.lat) **\n",
    "                   2) + ((child.lat - endNode.lat) ** 2)\n",
    "        # child.h = heuristic(child, endNode) 다른 휴리스틱\n",
    "        # print(\"position:\", child.position) 거리 추정 값 보기\n",
    "        # print(\"from child to goal:\", child.h)\n",
    "\n",
    "        child.f = child.g + child.h\n",
    "\n",
    "        if len([openNode for openNode in openList\n",
    "                if child == openNode and child.g > openNode.g]) > 0:\n",
    "            continue\n",
    "\n",
    "        openList.append(child)"
   ]
  },
  {
   "cell_type": "code",
   "execution_count": null,
   "id": "241b8fd9",
   "metadata": {},
   "outputs": [],
   "source": []
  },
  {
   "cell_type": "code",
   "execution_count": null,
   "id": "4111eacc",
   "metadata": {},
   "outputs": [],
   "source": []
  },
  {
   "cell_type": "code",
   "execution_count": null,
   "id": "0906b096",
   "metadata": {},
   "outputs": [],
   "source": []
  },
  {
   "cell_type": "code",
   "execution_count": null,
   "id": "ef65cadd",
   "metadata": {},
   "outputs": [],
   "source": []
  },
  {
   "cell_type": "markdown",
   "id": "13892acf",
   "metadata": {},
   "source": [
    "## Backbone code"
   ]
  },
  {
   "cell_type": "code",
   "execution_count": 1,
   "id": "f64c079e",
   "metadata": {},
   "outputs": [
    {
     "name": "stdout",
     "output_type": "stream",
     "text": [
      "[(0, 0), (1, 1), (2, 2), (3, 3), (4, 3), (5, 4), (6, 5), (7, 6)]\n"
     ]
    }
   ],
   "source": [
    "class Node:\n",
    "    def __init__(self, parent=None, position=None):\n",
    "        self.parent = parent\n",
    "        self.position = position\n",
    "\n",
    "        self.g = 0\n",
    "        self.h = 0\n",
    "        self.f = 0\n",
    "\n",
    "    def __eq__(self, other):\n",
    "        return self.position == other.position\n",
    "\n",
    "def heuristic(node, goal, D=1, D2=2 ** 0.5):\n",
    "    dx = abs(node.position[0] - goal.position[0])\n",
    "    dy = abs(node.position[1] - goal.position[1])\n",
    "    return D * (dx + dy) + (D2 - 2 * D) * min(dx, dy)\n",
    "\n",
    "\n",
    "def aStar(maze, start, end):\n",
    "    \n",
    "    startNode = Node(None, start)\n",
    "    endNode = Node(None, end)\n",
    "\n",
    "    openList = []\n",
    "    closedList = []\n",
    "\n",
    "    openList.append(startNode)\n",
    "\n",
    "    while openList:\n",
    "\n",
    "        currentNode = openList[0]\n",
    "        currentIdx = 0\n",
    "\n",
    "        for index, item in enumerate(openList):\n",
    "            if item.f < currentNode.f:\n",
    "                currentNode = item\n",
    "                currentIdx = index\n",
    "\n",
    "        openList.pop(currentIdx)\n",
    "        closedList.append(currentNode)\n",
    "\n",
    "        if currentNode == endNode:\n",
    "            path = []\n",
    "            current = currentNode\n",
    "            while current is not None:\n",
    "                # x, y = current.position\n",
    "                path.append(current.position)\n",
    "                current = current.parent\n",
    "            return path[::-1]  # reverse\n",
    "\n",
    "        children = []\n",
    "        \n",
    "        # 인접한 xy좌표 전부\n",
    "        for newPosition in [(0, -1), (0, 1), (-1, 0), (1, 0), (-1, -1), (-1, 1), (1, -1), (1, 1)]:\n",
    "\n",
    "            # 노드 위치 업데이트\n",
    "            nodePosition = (\n",
    "                currentNode.position[0] + newPosition[0],  # X\n",
    "                currentNode.position[1] + newPosition[1])  # Y\n",
    "                \n",
    "            # 미로 maze index 범위 안에 있어야함\n",
    "            within_range_criteria = [\n",
    "                nodePosition[0] > (len(maze) - 1),\n",
    "                nodePosition[0] < 0,\n",
    "                nodePosition[1] > (len(maze[len(maze) - 1]) - 1),\n",
    "                nodePosition[1] < 0,\n",
    "            ]\n",
    "\n",
    "            if any(within_range_criteria):  # 하나라도 true면 범위 밖임\n",
    "                continue\n",
    "\n",
    "            # 장애물이 있으면 다른 위치 불러오기\n",
    "            if maze[nodePosition[0]][nodePosition[1]] != 0:\n",
    "                continue\n",
    "\n",
    "            new_node = Node(currentNode, nodePosition)\n",
    "            children.append(new_node)\n",
    "\n",
    "        # 자식들 모두 loop\n",
    "        for child in children:\n",
    "\n",
    "            # 자식이 closedList에 있으면 continue\n",
    "            if child in closedList:\n",
    "                continue\n",
    "\n",
    "            # f, g, h값 업데이트\n",
    "            child.g = currentNode.g + 1\n",
    "            child.h = ((child.position[0] - endNode.position[0]) **\n",
    "                       2) + ((child.position[1] - endNode.position[1]) ** 2)\n",
    "            # child.h = heuristic(child, endNode) 다른 휴리스틱\n",
    "            # print(\"position:\", child.position) 거리 추정 값 보기\n",
    "            # print(\"from child to goal:\", child.h)\n",
    "            \n",
    "            child.f = child.g + child.h\n",
    "\n",
    "            if len([openNode for openNode in openList\n",
    "                    if child == openNode and child.g > openNode.g]) > 0:\n",
    "                continue\n",
    "                    \n",
    "            openList.append(child)\n",
    "\n",
    "\n",
    "def main():\n",
    "    # 1은 장애물\n",
    "    maze = [[0, 0, 0, 0, 1, 0, 0, 0, 0, 0],\n",
    "            [0, 0, 0, 0, 1, 0, 0, 0, 0, 0],\n",
    "            [0, 0, 0, 0, 1, 0, 0, 0, 0, 0],\n",
    "            [0, 0, 0, 0, 1, 0, 0, 0, 0, 0],\n",
    "            [0, 0, 0, 0, 1, 0, 0, 0, 0, 0],\n",
    "            [0, 0, 0, 0, 0, 0, 0, 0, 0, 0],\n",
    "            [0, 0, 0, 0, 1, 0, 0, 0, 0, 0],\n",
    "            [0, 0, 0, 0, 1, 0, 0, 0, 0, 0],\n",
    "            [0, 0, 0, 0, 1, 0, 0, 0, 0, 0],\n",
    "            [0, 0, 0, 0, 0, 0, 0, 0, 0, 0]]\n",
    "\n",
    "    start = (0, 0)\n",
    "    end = (7, 6)\n",
    "\n",
    "    path = aStar(maze, start, end)\n",
    "    print(path)\n",
    "\n",
    "\n",
    "if __name__ == '__main__':\n",
    "    main()\n",
    "\n"
   ]
  },
  {
   "cell_type": "code",
   "execution_count": null,
   "id": "85a64e29",
   "metadata": {},
   "outputs": [],
   "source": []
  },
  {
   "cell_type": "code",
   "execution_count": null,
   "id": "c21a2e17",
   "metadata": {},
   "outputs": [],
   "source": []
  },
  {
   "cell_type": "code",
   "execution_count": null,
   "id": "d1d257e5",
   "metadata": {},
   "outputs": [],
   "source": []
  },
  {
   "cell_type": "code",
   "execution_count": null,
   "id": "b8530366",
   "metadata": {},
   "outputs": [],
   "source": []
  },
  {
   "cell_type": "code",
   "execution_count": null,
   "id": "ae7e3e18",
   "metadata": {},
   "outputs": [],
   "source": []
  },
  {
   "cell_type": "code",
   "execution_count": null,
   "id": "152e62cc",
   "metadata": {},
   "outputs": [],
   "source": []
  },
  {
   "cell_type": "code",
   "execution_count": null,
   "id": "961847c7",
   "metadata": {},
   "outputs": [],
   "source": []
  },
  {
   "cell_type": "code",
   "execution_count": null,
   "id": "66236242",
   "metadata": {},
   "outputs": [],
   "source": []
  },
  {
   "cell_type": "code",
   "execution_count": null,
   "id": "33ef827d",
   "metadata": {},
   "outputs": [],
   "source": []
  },
  {
   "cell_type": "markdown",
   "id": "cf691ba2",
   "metadata": {},
   "source": [
    "## Class"
   ]
  },
  {
   "cell_type": "code",
   "execution_count": null,
   "id": "a00bdc4b",
   "metadata": {},
   "outputs": [],
   "source": []
  }
 ],
 "metadata": {
  "kernelspec": {
   "display_name": "Python 3 (ipykernel)",
   "language": "python",
   "name": "python3"
  },
  "language_info": {
   "codemirror_mode": {
    "name": "ipython",
    "version": 3
   },
   "file_extension": ".py",
   "mimetype": "text/x-python",
   "name": "python",
   "nbconvert_exporter": "python",
   "pygments_lexer": "ipython3",
   "version": "3.9.12"
  }
 },
 "nbformat": 4,
 "nbformat_minor": 5
}
